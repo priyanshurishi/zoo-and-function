{
  "nbformat": 4,
  "nbformat_minor": 0,
  "metadata": {
    "colab": {
      "name": "zooAndFunction.ipynb",
      "provenance": [],
      "authorship_tag": "ABX9TyMbO+GURuj9Yh/vmodPt3yc",
      "include_colab_link": true
    },
    "kernelspec": {
      "name": "python3",
      "display_name": "Python 3"
    }
  },
  "cells": [
    {
      "cell_type": "markdown",
      "metadata": {
        "id": "view-in-github",
        "colab_type": "text"
      },
      "source": [
        "<a href=\"https://colab.research.google.com/github/priyanshurishi/zoo-and-function/blob/main/zooAndFunction.ipynb\" target=\"_parent\"><img src=\"https://colab.research.google.com/assets/colab-badge.svg\" alt=\"Open In Colab\"/></a>"
      ]
    },
    {
      "cell_type": "code",
      "metadata": {
        "id": "35AsM4KPZNtp"
      },
      "source": [
        "import numpy as np\n",
        "import pandas as pd\n"
      ],
      "execution_count": null,
      "outputs": []
    },
    {
      "cell_type": "code",
      "metadata": {
        "id": "kjO67PgXZlIA"
      },
      "source": [
        "pd.read_csv('/content/zoo.csv')"
      ],
      "execution_count": null,
      "outputs": []
    },
    {
      "cell_type": "code",
      "metadata": {
        "id": "lYdxwObfaKmA"
      },
      "source": [
        "zoo = pd.read_csv('zoo.csv', delimiter = ',')\n",
        "zoo"
      ],
      "execution_count": null,
      "outputs": []
    },
    {
      "cell_type": "code",
      "metadata": {
        "id": "Ew-4ZOCEZx2K"
      },
      "source": [
        "count=zoo.count()\n",
        "count"
      ],
      "execution_count": null,
      "outputs": []
    },
    {
      "cell_type": "code",
      "metadata": {
        "id": "OpfdGOdvaGGe"
      },
      "source": [
        "zoo.water_need.sum()"
      ],
      "execution_count": null,
      "outputs": []
    },
    {
      "cell_type": "code",
      "metadata": {
        "id": "56zXmwW1aWtZ"
      },
      "source": [
        "zoo.water_need.min()"
      ],
      "execution_count": null,
      "outputs": []
    },
    {
      "cell_type": "code",
      "metadata": {
        "id": "UMeDK0I7bs0J"
      },
      "source": [
        "zoo.water_need.max()"
      ],
      "execution_count": null,
      "outputs": []
    },
    {
      "cell_type": "code",
      "metadata": {
        "id": "Frhv_J7Hb2gP"
      },
      "source": [
        "zoo.water_need.mean()"
      ],
      "execution_count": null,
      "outputs": []
    },
    {
      "cell_type": "code",
      "metadata": {
        "id": "oaZZi8Y5b6sL"
      },
      "source": [
        "zoo.water_need.median()"
      ],
      "execution_count": null,
      "outputs": []
    },
    {
      "cell_type": "code",
      "metadata": {
        "id": "t47NK_tqb9lT"
      },
      "source": [
        "#GROUPBY"
      ],
      "execution_count": null,
      "outputs": []
    },
    {
      "cell_type": "code",
      "metadata": {
        "id": "1ydtABLacNqb"
      },
      "source": [
        "zoo.groupby('animal').mean()\n"
      ],
      "execution_count": null,
      "outputs": []
    },
    {
      "cell_type": "code",
      "metadata": {
        "id": "WdW4jDJTcZW0"
      },
      "source": [
        "zoo.groupby('animal').mean()[['water_need']]"
      ],
      "execution_count": null,
      "outputs": []
    },
    {
      "cell_type": "code",
      "metadata": {
        "id": "Jdg-klS0dMAm",
        "outputId": "70cea9a0-b131-40dd-a2bf-1dc1bbd793fe",
        "colab": {
          "base_uri": "https://localhost:8080/",
          "height": 34
        }
      },
      "source": [
        "#FUNCTION DEFINATION AND CALLING\n",
        "import re \n",
        "# Function checks if the string \n",
        "# contains any special character \n",
        "def run(name): \n",
        "    # Make own character set and pass \n",
        "    # this as argument in compile method \n",
        "    regex = re.compile('[$%^&*#]') \n",
        "    # Pass the string in search \n",
        "    # method of regex object.     \n",
        "    if(regex.search(name)==None): \n",
        "     print(\"name does not contain special characters \") \n",
        "    else: \n",
        "     print(\"name contain special characters \") \n",
        "#Driver code\n",
        "if __name__=='__main__':\n",
        "  name='SRM#'\n",
        "  run(name)"
      ],
      "execution_count": null,
      "outputs": [
        {
          "output_type": "stream",
          "text": [
            "name contain special characters \n"
          ],
          "name": "stdout"
        }
      ]
    }
  ]
}